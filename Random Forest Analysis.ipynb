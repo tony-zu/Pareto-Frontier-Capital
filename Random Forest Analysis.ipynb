{
 "cells": [
  {
   "cell_type": "code",
   "execution_count": 9,
   "id": "5514ba3a",
   "metadata": {},
   "outputs": [],
   "source": [
    "import datetime\n",
    "from coinmetrics.api_client import CoinMetricsClient\n",
    "import numpy as np\n",
    "import pandas as pd\n",
    "cm_key = 'F9wkf2BdTrwX885GQ2qF'\n",
    "cm_client = CoinMetricsClient(cm_key)\n",
    "from datetime import datetime, timezone"
   ]
  },
  {
   "cell_type": "markdown",
   "id": "19183b98",
   "metadata": {},
   "source": [
    "#### Import Data"
   ]
  },
  {
   "cell_type": "code",
   "execution_count": 10,
   "id": "f2a92d2b",
   "metadata": {},
   "outputs": [],
   "source": [
    "cm_key = 'F9wkf2BdTrwX885GQ2qF'\n",
    "cm_client = CoinMetricsClient(cm_key)"
   ]
  },
  {
   "cell_type": "code",
   "execution_count": 11,
   "id": "01939d8f",
   "metadata": {},
   "outputs": [],
   "source": [
    "start = 1658440670000\n",
    "mili_sec_timespan = 30000  # int(0.5 * 3600 * 1000)\n",
    "end = start + mili_sec_timespan\n",
    "\n",
    "market = \"BTC_USD\"\n",
    "exchange = 'coinbase'\n",
    "\n",
    "freq = '1m'\n",
    "base = market.split('_')[0].lower()\n",
    "quote = market.split('_')[1].lower()\n",
    "\n",
    "\n"
   ]
  },
  {
   "cell_type": "code",
   "execution_count": 12,
   "id": "bf015770",
   "metadata": {},
   "outputs": [],
   "source": [
    "def timestamp_to_strdate(value: int) -> str:\n",
    "    converted = datetime.utcfromtimestamp(value/1000).strftime('%Y-%m-%dT%H:%M:%SZ')\n",
    "    return converted\n",
    "\n",
    "\n",
    "def time_to_timestamp(value):\n",
    "    return datetime.timestamp(value) * 1000\n",
    "\n",
    "def datetimeToTimestamp(value: datetime) -> float:\n",
    "    return (value - datetime(1970, 1, 1)).total_seconds()\n",
    "\n",
    "def timestamp_slippage(value: int) -> str:\n",
    "    converted = datetime.utcfromtimestamp(value / 1000).strftime('%Y-%m-%d %H:%M:%S.%f+00:00')\n",
    "    return converted"
   ]
  },
  {
   "cell_type": "code",
   "execution_count": 13,
   "id": "f29ff254",
   "metadata": {},
   "outputs": [],
   "source": [
    "def get_candles(start,end,freq,exchange,market):\n",
    "    candles = cm_client.get_market_candles(\n",
    "        markets=f'{exchange}-{base}-{quote}-spot',\n",
    "        frequency = freq,\n",
    "        start_time=timestamp_to_strdate(start),\n",
    "        end_time=timestamp_to_strdate(end),\n",
    "        paging_from='start',\n",
    "        page_size=10000)\n",
    "        \n",
    "    return candles.to_dataframe()"
   ]
  },
  {
   "cell_type": "code",
   "execution_count": 14,
   "id": "df33a5b1",
   "metadata": {},
   "outputs": [],
   "source": [
    "def call_cm_trades(start, end):\n",
    "        time_start = timestamp_to_strdate(start)\n",
    "        time_end = timestamp_to_strdate(end)\n",
    "        trades = cm_client.get_market_trades(\n",
    "            markets=f'{exchange}-{base}-{quote}-spot',\n",
    "            start_time=time_start,\n",
    "            end_time=time_end,\n",
    "            paging_from='start',\n",
    "            page_size=10000\n",
    "        )\n",
    "        trades_df = trades.to_dataframe()\n",
    "\n",
    "        while len(trades_df) == 0:\n",
    "            start = start - 1000\n",
    "            end = end + 1000\n",
    "            time_start = timestamp_to_strdate(start)\n",
    "            time_end = timestamp_to_strdate(end)\n",
    "            trades = cm_client.get_market_trades(\n",
    "                markets=f'{exchange}-{base}-{quote}-spot',\n",
    "                start_time=time_start,\n",
    "                end_time=time_end,\n",
    "                paging_from='start',\n",
    "                page_size=10000\n",
    "            )\n",
    "            trades_df = trades.to_dataframe()\n",
    "\n",
    "        return trades_df\n",
    "\n",
    "def get_tick_data_cm(timestamp_start, timestamp_end):\n",
    "        trades_df = call_cm_trades(timestamp_start, timestamp_end)\n",
    "        trades_df['timestamps'] = [time_to_timestamp(trades_df['time'].iloc[i]) for i in range(len(trades_df))]\n",
    "        trades_df['price'] = trades_df['price']\n",
    "        trades_df['amount'] = trades_df['amount']\n",
    "        trades_df['notional'] = trades_df['price'] * trades_df['amount']\n",
    "        trades_df['side'] = trades_df['side']\n",
    "        return trades_df"
   ]
  },
  {
   "cell_type": "code",
   "execution_count": 15,
   "id": "7be944f4",
   "metadata": {},
   "outputs": [],
   "source": [
    "def get_slippage_amount(trades):\n",
    "    ## the parameter \"trades\" comes from the function get_tick_data_cm()\n",
    "    data_buys = {'timestamp': [], 'slippage': [], 'amount': [], 'notional': [], 'first_price': [], 'last_price': []}\n",
    "    data_sells = {'timestamp': [], 'slippage': [], 'amount': [], 'notional': [], 'first_price': [], 'last_price': []}\n",
    "    i = 0\n",
    "    slippage_flag = False\n",
    "    amount = 0\n",
    "    notional = 0\n",
    "    while i < len(trades) - 1:\n",
    "        if trades['timestamps'].iloc[i + 1] == trades['timestamps'].iloc[i]:\n",
    "            if not slippage_flag:\n",
    "                slippage_flag = True\n",
    "                first_price = trades['price'].iloc[i]\n",
    "                amount += trades['amount'].iloc[i]\n",
    "                notional += trades['amount'].iloc[i] * trades['price'].iloc[i]\n",
    "            else:\n",
    "                amount += trades['amount'].iloc[i]\n",
    "                notional += trades['amount'].iloc[i] * trades['price'].iloc[i]\n",
    "        elif slippage_flag:\n",
    "            last_price = trades['price'].iloc[i]\n",
    "            amount += trades['amount'].iloc[i]\n",
    "            notional += trades['amount'].iloc[i] * trades['price'].iloc[i]\n",
    "            try:\n",
    "                if trades['side'].iloc[i] == 'buy':\n",
    "                    data_buys['timestamp'].append(trades['timestamps'].iloc[i])\n",
    "                    data_buys['slippage'].append(((last_price / first_price) - 1) * 100)\n",
    "                    data_buys['amount'].append(amount)\n",
    "                    data_buys['notional'].append(notional)\n",
    "                    data_buys['first_price'].append(first_price)\n",
    "                    data_buys['last_price'].append(last_price)\n",
    "                elif trades['side'].iloc[i] == 'sell':\n",
    "                    data_sells['timestamp'].append(trades['timestamps'].iloc[i])\n",
    "                    data_sells['slippage'].append(((last_price / first_price) - 1) * 100)\n",
    "                    data_sells['amount'].append(amount)\n",
    "                    data_sells['notional'].append(notional)\n",
    "                    data_sells['first_price'].append(first_price)\n",
    "                    data_sells['last_price'].append(last_price)\n",
    "            except:\n",
    "                if (last_price - first_price) >= 0:  # If no side, then infer it.\n",
    "                    data_buys['timestamp'].append(trades['timestamps'].iloc[i])\n",
    "                    data_buys['slippage'].append(((last_price / first_price) - 1) * 100)\n",
    "                    data_buys['amount'].append(amount)\n",
    "                    data_buys['notional'].append(notional)\n",
    "                    data_buys['first_price'].append(first_price)\n",
    "                    data_buys['last_price'].append(last_price)\n",
    "                else:\n",
    "                    data_sells['timestamp'].append(trades['timestamps'].iloc[i])\n",
    "                    data_sells['slippage'].append(((last_price / first_price) - 1) * 100)\n",
    "                    data_sells['amount'].append(amount)\n",
    "                    data_sells['notional'].append(notional)\n",
    "                    data_sells['first_price'].append(first_price)\n",
    "                    data_sells['last_price'].append(last_price)\n",
    "\n",
    "            slippage_flag = False\n",
    "            amount = 0\n",
    "            notional = 0\n",
    "\n",
    "        i += 1\n",
    "    return data_buys, data_sells\n"
   ]
  },
  {
   "cell_type": "code",
   "execution_count": 16,
   "id": "15acec66",
   "metadata": {},
   "outputs": [
    {
     "name": "stderr",
     "output_type": "stream",
     "text": [
      "Error found for the query: \n",
      " https://api.coinmetrics.io/v4/timeseries/market-trades?api_key=F9wkf2BdTrwX885GQ2qF&markets=coinbase-btc-usd-spot&page_size=10000&paging_from=start&start_time=2022-07-21T21%3A57%3A50Z&end_time=2022-07-21T21%3A58%3A20Z\n",
      "Error details: {'type': 'wrong_credentials', 'message': 'Supplied credentials are not valid.'}\n"
     ]
    },
    {
     "ename": "HTTPError",
     "evalue": "401 Client Error: Unauthorized for url: https://api.coinmetrics.io/v4/timeseries/market-trades?api_key=F9wkf2BdTrwX885GQ2qF&markets=coinbase-btc-usd-spot&page_size=10000&paging_from=start&start_time=2022-07-21T21%3A57%3A50Z&end_time=2022-07-21T21%3A58%3A20Z",
     "output_type": "error",
     "traceback": [
      "\u001b[1;31m---------------------------------------------------------------------------\u001b[0m",
      "\u001b[1;31mHTTPError\u001b[0m                                 Traceback (most recent call last)",
      "\u001b[1;32m<ipython-input-16-8dc571e7dc6f>\u001b[0m in \u001b[0;36m<module>\u001b[1;34m\u001b[0m\n\u001b[1;32m----> 1\u001b[1;33m \u001b[0mcm_trades\u001b[0m \u001b[1;33m=\u001b[0m \u001b[0mcall_cm_trades\u001b[0m\u001b[1;33m(\u001b[0m\u001b[0mstart\u001b[0m\u001b[1;33m,\u001b[0m \u001b[0mend\u001b[0m\u001b[1;33m)\u001b[0m\u001b[1;33m\u001b[0m\u001b[1;33m\u001b[0m\u001b[0m\n\u001b[0m",
      "\u001b[1;32m<ipython-input-14-eaca84b7d256>\u001b[0m in \u001b[0;36mcall_cm_trades\u001b[1;34m(start, end)\u001b[0m\n\u001b[0;32m      9\u001b[0m             \u001b[0mpage_size\u001b[0m\u001b[1;33m=\u001b[0m\u001b[1;36m10000\u001b[0m\u001b[1;33m\u001b[0m\u001b[1;33m\u001b[0m\u001b[0m\n\u001b[0;32m     10\u001b[0m         )\n\u001b[1;32m---> 11\u001b[1;33m         \u001b[0mtrades_df\u001b[0m \u001b[1;33m=\u001b[0m \u001b[0mtrades\u001b[0m\u001b[1;33m.\u001b[0m\u001b[0mto_dataframe\u001b[0m\u001b[1;33m(\u001b[0m\u001b[1;33m)\u001b[0m\u001b[1;33m\u001b[0m\u001b[1;33m\u001b[0m\u001b[0m\n\u001b[0m\u001b[0;32m     12\u001b[0m \u001b[1;33m\u001b[0m\u001b[0m\n\u001b[0;32m     13\u001b[0m         \u001b[1;32mwhile\u001b[0m \u001b[0mlen\u001b[0m\u001b[1;33m(\u001b[0m\u001b[0mtrades_df\u001b[0m\u001b[1;33m)\u001b[0m \u001b[1;33m==\u001b[0m \u001b[1;36m0\u001b[0m\u001b[1;33m:\u001b[0m\u001b[1;33m\u001b[0m\u001b[1;33m\u001b[0m\u001b[0m\n",
      "\u001b[1;32m~\\anaconda3\\lib\\site-packages\\coinmetrics\\_data_collection.py\u001b[0m in \u001b[0;36mto_dataframe\u001b[1;34m(self, header, dtype_mapper, optimize_pandas_types)\u001b[0m\n\u001b[0;32m    222\u001b[0m             \u001b[1;32mif\u001b[0m \u001b[0moptimize_pandas_types\u001b[0m\u001b[1;33m:\u001b[0m\u001b[1;33m\u001b[0m\u001b[1;33m\u001b[0m\u001b[0m\n\u001b[0;32m    223\u001b[0m                 \u001b[0mf\u001b[0m \u001b[1;33m=\u001b[0m \u001b[0mBytesIO\u001b[0m\u001b[1;33m(\u001b[0m\u001b[1;33m)\u001b[0m\u001b[1;33m\u001b[0m\u001b[1;33m\u001b[0m\u001b[0m\n\u001b[1;32m--> 224\u001b[1;33m                 \u001b[0mself\u001b[0m\u001b[1;33m.\u001b[0m\u001b[0mexport_to_csv\u001b[0m\u001b[1;33m(\u001b[0m\u001b[0mf\u001b[0m\u001b[1;33m)\u001b[0m\u001b[1;33m\u001b[0m\u001b[1;33m\u001b[0m\u001b[0m\n\u001b[0m\u001b[0;32m    225\u001b[0m                 \u001b[1;32mif\u001b[0m \u001b[0mf\u001b[0m\u001b[1;33m.\u001b[0m\u001b[0mgetbuffer\u001b[0m\u001b[1;33m(\u001b[0m\u001b[1;33m)\u001b[0m\u001b[1;33m.\u001b[0m\u001b[0mnbytes\u001b[0m \u001b[1;33m==\u001b[0m \u001b[1;36m0\u001b[0m\u001b[1;33m:\u001b[0m\u001b[1;33m\u001b[0m\u001b[1;33m\u001b[0m\u001b[0m\n\u001b[0;32m    226\u001b[0m                     \u001b[0mlogger\u001b[0m\u001b[1;33m.\u001b[0m\u001b[0mwarning\u001b[0m\u001b[1;33m(\u001b[0m\u001b[1;34m\"Response is empty.\"\u001b[0m\u001b[1;33m)\u001b[0m\u001b[1;33m\u001b[0m\u001b[1;33m\u001b[0m\u001b[0m\n",
      "\u001b[1;32m~\\anaconda3\\lib\\site-packages\\coinmetrics\\_data_collection.py\u001b[0m in \u001b[0;36mexport_to_csv\u001b[1;34m(self, path_or_bufstr, columns_to_store, compress)\u001b[0m\n\u001b[0;32m    116\u001b[0m             )\n\u001b[0;32m    117\u001b[0m \u001b[1;33m\u001b[0m\u001b[0m\n\u001b[1;32m--> 118\u001b[1;33m         return self._export_to_file(\n\u001b[0m\u001b[0;32m    119\u001b[0m             \u001b[0mself\u001b[0m\u001b[1;33m.\u001b[0m\u001b[0m_get_csv_data_lines\u001b[0m\u001b[1;33m(\u001b[0m\u001b[0mcolumns_to_store\u001b[0m\u001b[1;33m)\u001b[0m\u001b[1;33m,\u001b[0m \u001b[0mpath_or_bufstr\u001b[0m\u001b[1;33m,\u001b[0m \u001b[0mcompress\u001b[0m\u001b[1;33m\u001b[0m\u001b[1;33m\u001b[0m\u001b[0m\n\u001b[0;32m    120\u001b[0m         )\n",
      "\u001b[1;32m~\\anaconda3\\lib\\site-packages\\coinmetrics\\_data_collection.py\u001b[0m in \u001b[0;36m_export_to_file\u001b[1;34m(self, data_generator, path_or_bufstr, compress)\u001b[0m\n\u001b[0;32m    185\u001b[0m             \u001b[0moutput_file\u001b[0m \u001b[1;33m=\u001b[0m \u001b[0mf\u001b[0m  \u001b[1;31m# type: ignore\u001b[0m\u001b[1;33m\u001b[0m\u001b[1;33m\u001b[0m\u001b[0m\n\u001b[0;32m    186\u001b[0m         \u001b[1;32mtry\u001b[0m\u001b[1;33m:\u001b[0m\u001b[1;33m\u001b[0m\u001b[1;33m\u001b[0m\u001b[0m\n\u001b[1;32m--> 187\u001b[1;33m             \u001b[1;32mfor\u001b[0m \u001b[0mline\u001b[0m \u001b[1;32min\u001b[0m \u001b[0mdata_generator\u001b[0m\u001b[1;33m:\u001b[0m\u001b[1;33m\u001b[0m\u001b[1;33m\u001b[0m\u001b[0m\n\u001b[0m\u001b[0;32m    188\u001b[0m                 \u001b[0moutput_file\u001b[0m\u001b[1;33m.\u001b[0m\u001b[0mwrite\u001b[0m\u001b[1;33m(\u001b[0m\u001b[0mline\u001b[0m\u001b[1;33m)\u001b[0m\u001b[1;33m\u001b[0m\u001b[1;33m\u001b[0m\u001b[0m\n\u001b[0;32m    189\u001b[0m         \u001b[1;32mfinally\u001b[0m\u001b[1;33m:\u001b[0m\u001b[1;33m\u001b[0m\u001b[1;33m\u001b[0m\u001b[0m\n",
      "\u001b[1;32m~\\anaconda3\\lib\\site-packages\\coinmetrics\\_data_collection.py\u001b[0m in \u001b[0;36m_get_csv_data_lines\u001b[1;34m(self, columns_to_store)\u001b[0m\n\u001b[0;32m    126\u001b[0m         \u001b[1;32mif\u001b[0m \u001b[0mcolumns_to_store\u001b[0m \u001b[1;32mis\u001b[0m \u001b[1;32mNone\u001b[0m\u001b[1;33m:\u001b[0m\u001b[1;33m\u001b[0m\u001b[1;33m\u001b[0m\u001b[0m\n\u001b[0;32m    127\u001b[0m             \u001b[1;32mtry\u001b[0m\u001b[1;33m:\u001b[0m\u001b[1;33m\u001b[0m\u001b[1;33m\u001b[0m\u001b[0m\n\u001b[1;32m--> 128\u001b[1;33m                 \u001b[0mfirst_data_el\u001b[0m \u001b[1;33m=\u001b[0m \u001b[0mnext\u001b[0m\u001b[1;33m(\u001b[0m\u001b[0mself\u001b[0m\u001b[1;33m)\u001b[0m\u001b[1;33m\u001b[0m\u001b[1;33m\u001b[0m\u001b[0m\n\u001b[0m\u001b[0;32m    129\u001b[0m             \u001b[1;32mexcept\u001b[0m \u001b[0mStopIteration\u001b[0m\u001b[1;33m:\u001b[0m\u001b[1;33m\u001b[0m\u001b[1;33m\u001b[0m\u001b[0m\n\u001b[0;32m    130\u001b[0m                 \u001b[0mlogger\u001b[0m\u001b[1;33m.\u001b[0m\u001b[0minfo\u001b[0m\u001b[1;33m(\u001b[0m\u001b[1;34m\"no data to export\"\u001b[0m\u001b[1;33m)\u001b[0m\u001b[1;33m\u001b[0m\u001b[1;33m\u001b[0m\u001b[0m\n",
      "\u001b[1;32m~\\anaconda3\\lib\\site-packages\\coinmetrics\\_data_collection.py\u001b[0m in \u001b[0;36m__next__\u001b[1;34m(self)\u001b[0m\n\u001b[0;32m     78\u001b[0m         \u001b[1;32mif\u001b[0m \u001b[0mself\u001b[0m\u001b[1;33m.\u001b[0m\u001b[0m_next_page_token\u001b[0m\u001b[1;33m:\u001b[0m\u001b[1;33m\u001b[0m\u001b[1;33m\u001b[0m\u001b[0m\n\u001b[0;32m     79\u001b[0m             \u001b[0murl_params\u001b[0m\u001b[1;33m[\u001b[0m\u001b[1;34m\"next_page_token\"\u001b[0m\u001b[1;33m]\u001b[0m \u001b[1;33m=\u001b[0m \u001b[0mself\u001b[0m\u001b[1;33m.\u001b[0m\u001b[0m_next_page_token\u001b[0m\u001b[1;33m\u001b[0m\u001b[1;33m\u001b[0m\u001b[0m\n\u001b[1;32m---> 80\u001b[1;33m         \u001b[0mapi_response\u001b[0m \u001b[1;33m=\u001b[0m \u001b[0mself\u001b[0m\u001b[1;33m.\u001b[0m\u001b[0m_data_retrieval_function\u001b[0m\u001b[1;33m(\u001b[0m\u001b[0mself\u001b[0m\u001b[1;33m.\u001b[0m\u001b[0m_endpoint\u001b[0m\u001b[1;33m,\u001b[0m \u001b[0murl_params\u001b[0m\u001b[1;33m)\u001b[0m\u001b[1;33m\u001b[0m\u001b[1;33m\u001b[0m\u001b[0m\n\u001b[0m\u001b[0;32m     81\u001b[0m         \u001b[0mself\u001b[0m\u001b[1;33m.\u001b[0m\u001b[0m_next_page_token\u001b[0m \u001b[1;33m=\u001b[0m \u001b[0mcast\u001b[0m\u001b[1;33m(\u001b[0m\u001b[0mOptional\u001b[0m\u001b[1;33m[\u001b[0m\u001b[0mstr\u001b[0m\u001b[1;33m]\u001b[0m\u001b[1;33m,\u001b[0m \u001b[0mapi_response\u001b[0m\u001b[1;33m.\u001b[0m\u001b[0mget\u001b[0m\u001b[1;33m(\u001b[0m\u001b[1;34m\"next_page_token\"\u001b[0m\u001b[1;33m)\u001b[0m\u001b[1;33m)\u001b[0m\u001b[1;33m\u001b[0m\u001b[1;33m\u001b[0m\u001b[0m\n\u001b[0;32m     82\u001b[0m         \u001b[0mself\u001b[0m\u001b[1;33m.\u001b[0m\u001b[0m_current_data_iterator\u001b[0m \u001b[1;33m=\u001b[0m \u001b[0miter\u001b[0m\u001b[1;33m(\u001b[0m\u001b[0mapi_response\u001b[0m\u001b[1;33m[\u001b[0m\u001b[1;34m\"data\"\u001b[0m\u001b[1;33m]\u001b[0m\u001b[1;33m)\u001b[0m\u001b[1;33m\u001b[0m\u001b[1;33m\u001b[0m\u001b[0m\n",
      "\u001b[1;32m~\\anaconda3\\lib\\site-packages\\coinmetrics\\api_client.py\u001b[0m in \u001b[0;36m_get_data\u001b[1;34m(self, url, params)\u001b[0m\n\u001b[0;32m   3430\u001b[0m                 )\n\u001b[0;32m   3431\u001b[0m                 \u001b[0mlogger\u001b[0m\u001b[1;33m.\u001b[0m\u001b[0merror\u001b[0m\u001b[1;33m(\u001b[0m\u001b[0merror_msg\u001b[0m\u001b[1;33m)\u001b[0m\u001b[1;33m\u001b[0m\u001b[1;33m\u001b[0m\u001b[0m\n\u001b[1;32m-> 3432\u001b[1;33m                 \u001b[0mresp\u001b[0m\u001b[1;33m.\u001b[0m\u001b[0mraise_for_status\u001b[0m\u001b[1;33m(\u001b[0m\u001b[1;33m)\u001b[0m\u001b[1;33m\u001b[0m\u001b[1;33m\u001b[0m\u001b[0m\n\u001b[0m\u001b[0;32m   3433\u001b[0m             \u001b[1;32mreturn\u001b[0m \u001b[0mcast\u001b[0m\u001b[1;33m(\u001b[0m\u001b[0mDataReturnType\u001b[0m\u001b[1;33m,\u001b[0m \u001b[0mdata\u001b[0m\u001b[1;33m)\u001b[0m\u001b[1;33m\u001b[0m\u001b[1;33m\u001b[0m\u001b[0m\n\u001b[0;32m   3434\u001b[0m \u001b[1;33m\u001b[0m\u001b[0m\n",
      "\u001b[1;32m~\\anaconda3\\lib\\site-packages\\requests\\models.py\u001b[0m in \u001b[0;36mraise_for_status\u001b[1;34m(self)\u001b[0m\n\u001b[0;32m    941\u001b[0m \u001b[1;33m\u001b[0m\u001b[0m\n\u001b[0;32m    942\u001b[0m         \u001b[1;32mif\u001b[0m \u001b[0mhttp_error_msg\u001b[0m\u001b[1;33m:\u001b[0m\u001b[1;33m\u001b[0m\u001b[1;33m\u001b[0m\u001b[0m\n\u001b[1;32m--> 943\u001b[1;33m             \u001b[1;32mraise\u001b[0m \u001b[0mHTTPError\u001b[0m\u001b[1;33m(\u001b[0m\u001b[0mhttp_error_msg\u001b[0m\u001b[1;33m,\u001b[0m \u001b[0mresponse\u001b[0m\u001b[1;33m=\u001b[0m\u001b[0mself\u001b[0m\u001b[1;33m)\u001b[0m\u001b[1;33m\u001b[0m\u001b[1;33m\u001b[0m\u001b[0m\n\u001b[0m\u001b[0;32m    944\u001b[0m \u001b[1;33m\u001b[0m\u001b[0m\n\u001b[0;32m    945\u001b[0m     \u001b[1;32mdef\u001b[0m \u001b[0mclose\u001b[0m\u001b[1;33m(\u001b[0m\u001b[0mself\u001b[0m\u001b[1;33m)\u001b[0m\u001b[1;33m:\u001b[0m\u001b[1;33m\u001b[0m\u001b[1;33m\u001b[0m\u001b[0m\n",
      "\u001b[1;31mHTTPError\u001b[0m: 401 Client Error: Unauthorized for url: https://api.coinmetrics.io/v4/timeseries/market-trades?api_key=F9wkf2BdTrwX885GQ2qF&markets=coinbase-btc-usd-spot&page_size=10000&paging_from=start&start_time=2022-07-21T21%3A57%3A50Z&end_time=2022-07-21T21%3A58%3A20Z"
     ]
    }
   ],
   "source": [
    "cm_trades = call_cm_trades(start, end)"
   ]
  },
  {
   "cell_type": "code",
   "execution_count": null,
   "id": "461d64a7",
   "metadata": {},
   "outputs": [],
   "source": [
    "cm_trades"
   ]
  },
  {
   "cell_type": "code",
   "execution_count": null,
   "id": "d02136e7",
   "metadata": {},
   "outputs": [],
   "source": [
    "trades = get_tick_data_cm(start, end)"
   ]
  },
  {
   "cell_type": "code",
   "execution_count": null,
   "id": "fc132dfb",
   "metadata": {},
   "outputs": [],
   "source": [
    "trades"
   ]
  },
  {
   "cell_type": "code",
   "execution_count": null,
   "id": "07b44fe2",
   "metadata": {},
   "outputs": [],
   "source": [
    "slippage = get_slippage_amount(trades)"
   ]
  },
  {
   "cell_type": "code",
   "execution_count": null,
   "id": "f504163b",
   "metadata": {},
   "outputs": [],
   "source": [
    "slippage"
   ]
  },
  {
   "cell_type": "markdown",
   "id": "83de2851",
   "metadata": {},
   "source": [
    "#### Clean Data"
   ]
  },
  {
   "cell_type": "code",
   "execution_count": null,
   "id": "d5bf728d",
   "metadata": {},
   "outputs": [],
   "source": [
    "timestamp = trades[\"timestamps\"]\n",
    "call_cm_trades = cm_trades.join(timestamp)\n",
    "notional = trades[\"notional\"]\n",
    "call_cm_trades = call_cm_trades.join(notional)\n",
    "call_cm_trades"
   ]
  },
  {
   "cell_type": "code",
   "execution_count": null,
   "id": "2d0521d9",
   "metadata": {},
   "outputs": [],
   "source": [
    "slippageList = list(slippage)\n",
    "slippageDict = slippageList[0]\n",
    "df = pd.DataFrame.from_dict(slippageDict)\n",
    "df"
   ]
  },
  {
   "cell_type": "code",
   "execution_count": null,
   "id": "e82b1eda",
   "metadata": {},
   "outputs": [],
   "source": [
    "print(call_cm_trades.to_string())"
   ]
  },
  {
   "cell_type": "code",
   "execution_count": null,
   "id": "3aee77af",
   "metadata": {
    "scrolled": true
   },
   "outputs": [],
   "source": [
    "df['datetime'] = df['timestamp'].apply(timestamp_slippage) \n",
    "df"
   ]
  },
  {
   "cell_type": "code",
   "execution_count": null,
   "id": "5214bab6",
   "metadata": {},
   "outputs": [],
   "source": [
    "datetime = df['datetime']\n",
    "datetime"
   ]
  },
  {
   "cell_type": "code",
   "execution_count": null,
   "id": "c5b31de3",
   "metadata": {},
   "outputs": [],
   "source": [
    "call_cm_trades['time2']=call_cm_trades['time'].dt.strftime('%Y-%m-%d %H:%M:%S.%f+00:00')\n",
    "call_cm_trades[\"exists\"] = call_cm_trades['time2'].isin(df['datetime'])\n",
    "call_cm_trades2 = call_cm_trades[call_cm_trades.exists != False]\n",
    "call_cm_trades2.reset_index(inplace = True) # Remove all index\n",
    "call_cm_trades2['match'] = call_cm_trades2[\"time2\"].shift() != call_cm_trades2[\"time2\"]\n",
    "call_cm_trades2 = call_cm_trades2[call_cm_trades2.match != False]\n",
    "call_cm_trades2.reset_index(inplace = True)\n",
    "call_cm_trades2['slippage']=df['amount']\n",
    "call_cm_trades2"
   ]
  },
  {
   "cell_type": "code",
   "execution_count": null,
   "id": "db583703",
   "metadata": {},
   "outputs": [],
   "source": [
    "call_cm_trades2['predict'] = 0\n"
   ]
  },
  {
   "cell_type": "markdown",
   "id": "0436685f",
   "metadata": {},
   "source": [
    "#### Get Training/Validation/Testing Sets"
   ]
  },
  {
   "cell_type": "code",
   "execution_count": null,
   "id": "597108a1",
   "metadata": {},
   "outputs": [],
   "source": [
    "call_cm_trades3 = call_cm_trades2.drop(['level_0','coin_metrics_id','index','market', 'time', 'database_time','side','timestamps','time2','match','exists'],axis=1)\n",
    "call_cm_trades3"
   ]
  },
  {
   "cell_type": "markdown",
   "id": "e4d25cc6",
   "metadata": {},
   "source": [
    "#### Create Testing Set"
   ]
  },
  {
   "cell_type": "code",
   "execution_count": null,
   "id": "c3c6a46f",
   "metadata": {},
   "outputs": [],
   "source": [
    "X = call_cm_trades3.drop('slippage',axis=1)"
   ]
  },
  {
   "cell_type": "code",
   "execution_count": null,
   "id": "93da331d",
   "metadata": {},
   "outputs": [],
   "source": [
    "Y = call_cm_trades3['slippage']"
   ]
  },
  {
   "cell_type": "code",
   "execution_count": null,
   "id": "51cb427c",
   "metadata": {},
   "outputs": [],
   "source": [
    "X"
   ]
  },
  {
   "cell_type": "code",
   "execution_count": null,
   "id": "0c587c74",
   "metadata": {},
   "outputs": [],
   "source": [
    "Y"
   ]
  },
  {
   "cell_type": "code",
   "execution_count": null,
   "id": "e464f262",
   "metadata": {},
   "outputs": [],
   "source": [
    "from sklearn.model_selection import train_test_split\n",
    "X_train, X_test, y_train, y_test = train_test_split(X, Y, test_size=0.3, random_state=8)\n",
    "X_train.shape, X_test.shape"
   ]
  },
  {
   "cell_type": "code",
   "execution_count": null,
   "id": "8b6651da",
   "metadata": {},
   "outputs": [],
   "source": [
    "from sklearn.ensemble import RandomForestRegressor\n",
    "regressor = RandomForestRegressor(n_estimators = 1000, random_state = 0)\n",
    "regressor.fit(X_train, y_train)"
   ]
  },
  {
   "cell_type": "markdown",
   "id": "e085ee31",
   "metadata": {},
   "source": [
    "#### Prediction Analysis"
   ]
  },
  {
   "cell_type": "code",
   "execution_count": null,
   "id": "f1c82fcf",
   "metadata": {},
   "outputs": [],
   "source": [
    "y_predict = regressor.predict(X_test)\n",
    "df=pd.DataFrame({'Actual':y_test, 'Predicted':y_predict})\n",
    "df"
   ]
  },
  {
   "cell_type": "code",
   "execution_count": null,
   "id": "7517219f",
   "metadata": {},
   "outputs": [],
   "source": [
    "# Find error. Source: https://machinelearningmastery.com/random-forest-for-time-series-forecasting/\n",
    "error = abs(y_predict - y_test)\n",
    "print('Mean Absolute Error:', round(np.mean(error), 4))\n",
    "\n",
    "#Calculate mean absolute percentage error\n",
    "MAPE = 100 * (error / y_test)\n",
    "accuracy = 100 - np.mean(MAPE)\n",
    "print('Accuracy:', round(accuracy, 4))"
   ]
  },
  {
   "cell_type": "markdown",
   "id": "0aa71ff7",
   "metadata": {},
   "source": [
    "#### Analysis of Features"
   ]
  },
  {
   "cell_type": "code",
   "execution_count": null,
   "id": "ac2e788c",
   "metadata": {},
   "outputs": [],
   "source": [
    "#Bar plot of features from most important to least important using sklearn built-in method (percentage scale)\n",
    "#https://www.yourdatateacher.com/2021/10/11/feature-selection-with-random-forest/\n",
    "\n",
    "import matplotlib.pyplot as plt\n",
    "f = list(zip(X,regressor.feature_importances_))\n",
    "f.sort(key = lambda x : x[1])\n",
    "plt.barh([x[0] for x in f_i],[x[1] for x in f_i])\n",
    "\n",
    "plt.show()"
   ]
  },
  {
   "cell_type": "code",
   "execution_count": null,
   "id": "4246ae27",
   "metadata": {},
   "outputs": [],
   "source": [
    "#Bar plot of features from most important to least important using permutation based feature importance (percentage scale)\n",
    "#https://mljar.com/blog/feature-importance-in-random-forest/\n",
    "\n",
    "from sklearn.inspection import permutation_importance\n",
    "perm_importance = permutation_importance(regressor, X_test, y_test)\n",
    "\n",
    "import matplotlib.pyplot as plt\n",
    "f = list(zip(X,perm_importance))\n",
    "f.sort(key = lambda x : x[1])\n",
    "plt.barh([x[0] for x in f_i],[x[1] for x in f_i])\n",
    "\n",
    "plt.show()"
   ]
  },
  {
   "cell_type": "code",
   "execution_count": null,
   "id": "003dde0f",
   "metadata": {},
   "outputs": [],
   "source": [
    "#Feature importance using Shapley game theory (determined independent of model used)\n",
    "#https://mljar.com/blog/feature-importance-in-random-forest/\n",
    "\n",
    "import shap\n",
    "explainer = shap.TreeExplainer(regressor)\n",
    "shap_values = explainer.shap_values(X_test)\n",
    "\n",
    "shap.summary_plot(shap_values, X_test, plot_type=\"bar\")"
   ]
  }
 ],
 "metadata": {
  "kernelspec": {
   "display_name": "Python 3",
   "language": "python",
   "name": "python3"
  },
  "language_info": {
   "codemirror_mode": {
    "name": "ipython",
    "version": 3
   },
   "file_extension": ".py",
   "mimetype": "text/x-python",
   "name": "python",
   "nbconvert_exporter": "python",
   "pygments_lexer": "ipython3",
   "version": "3.8.8"
  }
 },
 "nbformat": 4,
 "nbformat_minor": 5
}
